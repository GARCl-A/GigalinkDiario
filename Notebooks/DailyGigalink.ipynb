{
 "cells": [
  {
   "cell_type": "markdown",
   "metadata": {},
   "source": [
    "# Importações e Estruturação dos Dados"
   ]
  },
  {
   "cell_type": "code",
   "execution_count": 150,
   "metadata": {},
   "outputs": [],
   "source": [
    "import pandas as pd\n",
    "import matplotlib.pyplot as plt\n",
    "import seaborn as sns"
   ]
  },
  {
   "cell_type": "code",
   "execution_count": 151,
   "metadata": {},
   "outputs": [],
   "source": [
    "def insere_id(dataframe):\n",
    "    dataframe.insert(0, 'ID', list(range(1,len(dataframe) +1)))"
   ]
  },
  {
   "cell_type": "code",
   "execution_count": 152,
   "metadata": {},
   "outputs": [
    {
     "data": {
      "text/html": [
       "<div>\n",
       "<style scoped>\n",
       "    .dataframe tbody tr th:only-of-type {\n",
       "        vertical-align: middle;\n",
       "    }\n",
       "\n",
       "    .dataframe tbody tr th {\n",
       "        vertical-align: top;\n",
       "    }\n",
       "\n",
       "    .dataframe thead th {\n",
       "        text-align: right;\n",
       "    }\n",
       "</style>\n",
       "<table border=\"1\" class=\"dataframe\">\n",
       "  <thead>\n",
       "    <tr style=\"text-align: right;\">\n",
       "      <th></th>\n",
       "      <th>ID</th>\n",
       "      <th>TestDay</th>\n",
       "      <th>TestMonth</th>\n",
       "      <th>TestYear</th>\n",
       "      <th>DailyAverageMeanThroughputMbps</th>\n",
       "      <th>DailyAverageMinRTTDay</th>\n",
       "      <th>DailyAverageLossRate</th>\n",
       "      <th>ServerSite</th>\n",
       "      <th>date</th>\n",
       "      <th>DailyMedianMeanThroughputMbps</th>\n",
       "      <th>DailyMedianLossRate</th>\n",
       "      <th>DailyMedianMinRTTDay</th>\n",
       "      <th>DailyMinMeanThroughputMbps</th>\n",
       "      <th>DailyMinMinRTTDay</th>\n",
       "      <th>DailyMinLossRate</th>\n",
       "      <th>DailyMaxMeanThroughputMbps</th>\n",
       "      <th>DailyMaxMinRTTDay</th>\n",
       "      <th>DailyMaxLossRate</th>\n",
       "    </tr>\n",
       "  </thead>\n",
       "  <tbody>\n",
       "    <tr>\n",
       "      <th>0</th>\n",
       "      <td>1</td>\n",
       "      <td>17</td>\n",
       "      <td>6</td>\n",
       "      <td>2020</td>\n",
       "      <td>1.823248</td>\n",
       "      <td>207.05400</td>\n",
       "      <td>0.012515</td>\n",
       "      <td>gru03</td>\n",
       "      <td>2020-06-17</td>\n",
       "      <td>1.823248</td>\n",
       "      <td>0.012515</td>\n",
       "      <td>207.0540</td>\n",
       "      <td>1.823248</td>\n",
       "      <td>207.054</td>\n",
       "      <td>0.012515</td>\n",
       "      <td>1.823248</td>\n",
       "      <td>207.054</td>\n",
       "      <td>0.012515</td>\n",
       "    </tr>\n",
       "    <tr>\n",
       "      <th>1</th>\n",
       "      <td>2</td>\n",
       "      <td>9</td>\n",
       "      <td>7</td>\n",
       "      <td>2020</td>\n",
       "      <td>32.864398</td>\n",
       "      <td>14.01550</td>\n",
       "      <td>0.010798</td>\n",
       "      <td>gru01</td>\n",
       "      <td>2020-07-09</td>\n",
       "      <td>37.681778</td>\n",
       "      <td>0.011827</td>\n",
       "      <td>14.4040</td>\n",
       "      <td>8.011241</td>\n",
       "      <td>12.000</td>\n",
       "      <td>0.004386</td>\n",
       "      <td>48.082792</td>\n",
       "      <td>15.254</td>\n",
       "      <td>0.015151</td>\n",
       "    </tr>\n",
       "    <tr>\n",
       "      <th>2</th>\n",
       "      <td>3</td>\n",
       "      <td>9</td>\n",
       "      <td>7</td>\n",
       "      <td>2020</td>\n",
       "      <td>41.497518</td>\n",
       "      <td>13.78860</td>\n",
       "      <td>0.080651</td>\n",
       "      <td>gru02</td>\n",
       "      <td>2020-07-09</td>\n",
       "      <td>49.890066</td>\n",
       "      <td>0.027612</td>\n",
       "      <td>14.7630</td>\n",
       "      <td>1.595871</td>\n",
       "      <td>11.024</td>\n",
       "      <td>0.008192</td>\n",
       "      <td>73.433080</td>\n",
       "      <td>16.986</td>\n",
       "      <td>0.272115</td>\n",
       "    </tr>\n",
       "    <tr>\n",
       "      <th>3</th>\n",
       "      <td>4</td>\n",
       "      <td>9</td>\n",
       "      <td>7</td>\n",
       "      <td>2020</td>\n",
       "      <td>57.038192</td>\n",
       "      <td>14.37450</td>\n",
       "      <td>0.050736</td>\n",
       "      <td>gru03</td>\n",
       "      <td>2020-07-09</td>\n",
       "      <td>57.038192</td>\n",
       "      <td>0.050736</td>\n",
       "      <td>14.3745</td>\n",
       "      <td>35.327219</td>\n",
       "      <td>13.086</td>\n",
       "      <td>0.025079</td>\n",
       "      <td>78.749165</td>\n",
       "      <td>15.663</td>\n",
       "      <td>0.076393</td>\n",
       "    </tr>\n",
       "    <tr>\n",
       "      <th>4</th>\n",
       "      <td>5</td>\n",
       "      <td>10</td>\n",
       "      <td>7</td>\n",
       "      <td>2020</td>\n",
       "      <td>50.476502</td>\n",
       "      <td>12.42425</td>\n",
       "      <td>0.007441</td>\n",
       "      <td>gru01</td>\n",
       "      <td>2020-07-10</td>\n",
       "      <td>49.660492</td>\n",
       "      <td>0.003494</td>\n",
       "      <td>12.1040</td>\n",
       "      <td>11.808759</td>\n",
       "      <td>9.946</td>\n",
       "      <td>0.000416</td>\n",
       "      <td>90.776263</td>\n",
       "      <td>15.543</td>\n",
       "      <td>0.022358</td>\n",
       "    </tr>\n",
       "  </tbody>\n",
       "</table>\n",
       "</div>"
      ],
      "text/plain": [
       "   ID  TestDay  TestMonth  TestYear  DailyAverageMeanThroughputMbps  \\\n",
       "0   1       17          6      2020                        1.823248   \n",
       "1   2        9          7      2020                       32.864398   \n",
       "2   3        9          7      2020                       41.497518   \n",
       "3   4        9          7      2020                       57.038192   \n",
       "4   5       10          7      2020                       50.476502   \n",
       "\n",
       "   DailyAverageMinRTTDay  DailyAverageLossRate ServerSite        date  \\\n",
       "0              207.05400              0.012515      gru03  2020-06-17   \n",
       "1               14.01550              0.010798      gru01  2020-07-09   \n",
       "2               13.78860              0.080651      gru02  2020-07-09   \n",
       "3               14.37450              0.050736      gru03  2020-07-09   \n",
       "4               12.42425              0.007441      gru01  2020-07-10   \n",
       "\n",
       "   DailyMedianMeanThroughputMbps  DailyMedianLossRate  DailyMedianMinRTTDay  \\\n",
       "0                       1.823248             0.012515              207.0540   \n",
       "1                      37.681778             0.011827               14.4040   \n",
       "2                      49.890066             0.027612               14.7630   \n",
       "3                      57.038192             0.050736               14.3745   \n",
       "4                      49.660492             0.003494               12.1040   \n",
       "\n",
       "   DailyMinMeanThroughputMbps  DailyMinMinRTTDay  DailyMinLossRate  \\\n",
       "0                    1.823248            207.054          0.012515   \n",
       "1                    8.011241             12.000          0.004386   \n",
       "2                    1.595871             11.024          0.008192   \n",
       "3                   35.327219             13.086          0.025079   \n",
       "4                   11.808759              9.946          0.000416   \n",
       "\n",
       "   DailyMaxMeanThroughputMbps  DailyMaxMinRTTDay  DailyMaxLossRate  \n",
       "0                    1.823248            207.054          0.012515  \n",
       "1                   48.082792             15.254          0.015151  \n",
       "2                   73.433080             16.986          0.272115  \n",
       "3                   78.749165             15.663          0.076393  \n",
       "4                   90.776263             15.543          0.022358  "
      ]
     },
     "execution_count": 152,
     "metadata": {},
     "output_type": "execute_result"
    }
   ],
   "source": [
    "#As bases de dados se referem a estatísticas diferentes, entretanto se referem ao mesmo conjunto de dados com os mesmos agrupamentos\n",
    "#De toda forma, um ID é inserido a cada um dos dataframes separadamente\n",
    "#Feito isso, todos são unidos em um único dataframe a fim de facilitar os códigos.\n",
    "\n",
    "df_daily_mean = pd.read_csv(\"..\\Dados\\DailyMean.csv\")\n",
    "df_daily_median= pd.read_csv(\"..\\Dados\\DailyMedian.csv\")\n",
    "df_daily_median.drop(columns=['rownumber'],inplace=True)\n",
    "df_daily_min_max = pd.read_csv(\"..\\Dados\\DailyMinMax.csv\")\n",
    "df_base = pd.read_csv(\"..\\Dados\\Base.csv\")\n",
    "\n",
    "insere_id(df_daily_mean)\n",
    "insere_id(df_daily_median)\n",
    "insere_id(df_daily_min_max)\n",
    "\n",
    "df_daily_measures = pd.merge(df_daily_mean, df_daily_median, how = 'inner', on = ['ID','TestDay','TestMonth','TestYear','ServerSite'])\n",
    "df_daily_measures = pd.merge(df_daily_measures, df_daily_min_max, how = 'inner', on = ['ID','TestDay','TestMonth','TestYear','ServerSite'])\n",
    "\n",
    "df_daily_measures.head()"
   ]
  },
  {
   "cell_type": "markdown",
   "metadata": {},
   "source": [
    "# Análise"
   ]
  },
  {
   "cell_type": "markdown",
   "metadata": {},
   "source": [
    "##  Número de testes realizados ao longo do tempo "
   ]
  },
  {
   "cell_type": "markdown",
   "metadata": {},
   "source": [
    "Verificando a quantidade de medidas por dia, pode-se observar que existem alguns dias com uma quantidade incomum de acessos."
   ]
  },
  {
   "cell_type": "code",
   "execution_count": 153,
   "metadata": {},
   "outputs": [
    {
     "data": {
      "image/png": "[encoded data removed]",
      "text/plain": [
       "<Figure size 864x576 with 1 Axes>"
      ]
     },
     "metadata": {
      "needs_background": "light"
     },
     "output_type": "display_data"
    }
   ],
   "source": [
    "x = df_base.date.value_counts(sort=False).index\n",
    "y = df_base.date.value_counts(sort=False)\n",
    "\n",
    "plt.figure(figsize=(12,8))\n",
    "plt.plot(x,y)\n",
    "plt.show()\n",
    "plt.close()"
   ]
  },
  {
   "cell_type": "code",
   "execution_count": 154,
   "metadata": {},
   "outputs": [
    {
     "data": {
      "image/png": "[encoded data removed]",
      "text/plain": [
       "<Figure size 864x576 with 1 Axes>"
      ]
     },
     "metadata": {
      "needs_background": "light"
     },
     "output_type": "display_data"
    }
   ],
   "source": [
    "plt.figure(figsize=(12,8))\n",
    "plt.boxplot(y)\n",
    "plt.show()\n",
    "plt.close()"
   ]
  },
  {
   "cell_type": "markdown",
   "metadata": {},
   "source": [
    "Observando no gráfico vemos dois dias com acessos muito maiores que os outros, sabendo disso pode-se verificar quais dias são esses e o quanto são maiores que os outros.\n",
    "\n",
    "Dias: 2021-09-30 e 2021-03-03 com 1186 e 866 medidas realizadas."
   ]
  },
  {
   "cell_type": "code",
   "execution_count": 155,
   "metadata": {},
   "outputs": [
    {
     "data": {
      "text/plain": [
       "2021-09-30    1186\n",
       "2021-03-03     866\n",
       "2021-08-10     416\n",
       "2021-04-14     406\n",
       "2021-09-29     404\n",
       "              ... \n",
       "2020-07-19       3\n",
       "2020-07-18       2\n",
       "2020-07-20       2\n",
       "2020-07-22       1\n",
       "2020-06-17       1\n",
       "Name: date, Length: 846, dtype: int64"
      ]
     },
     "execution_count": 155,
     "metadata": {},
     "output_type": "execute_result"
    }
   ],
   "source": [
    "df_base.date.value_counts()"
   ]
  },
  {
   "cell_type": "markdown",
   "metadata": {},
   "source": [
    "Sem esses dois outliers, pode-se observar que houve uma tendência ao aumento de medidas e ainda assim existem dias com muito mais acessos que outros"
   ]
  },
  {
   "cell_type": "code",
   "execution_count": 160,
   "metadata": {},
   "outputs": [
    {
     "ename": "TypeError",
     "evalue": "string indices must be integers",
     "output_type": "error",
     "traceback": [
      "\u001b[1;31m---------------------------------------------------------------------------\u001b[0m",
      "\u001b[1;31mTypeError\u001b[0m                                 Traceback (most recent call last)",
      "\u001b[1;32m~\\AppData\\Local\\Temp/ipykernel_5824/3879640865.py\u001b[0m in \u001b[0;36m<module>\u001b[1;34m\u001b[0m\n\u001b[0;32m      2\u001b[0m \u001b[0msem_outliers_acesso\u001b[0m \u001b[1;33m=\u001b[0m \u001b[0mdf_base\u001b[0m\u001b[1;33m\u001b[0m\u001b[1;33m\u001b[0m\u001b[0m\n\u001b[0;32m      3\u001b[0m \u001b[1;32mfor\u001b[0m \u001b[0mlinha\u001b[0m \u001b[1;32min\u001b[0m \u001b[0msem_outliers_acesso\u001b[0m\u001b[1;33m:\u001b[0m\u001b[1;33m\u001b[0m\u001b[1;33m\u001b[0m\u001b[0m\n\u001b[1;32m----> 4\u001b[1;33m     \u001b[0mlinha\u001b[0m\u001b[1;33m[\u001b[0m\u001b[1;34m'date'\u001b[0m\u001b[1;33m]\u001b[0m \u001b[1;32min\u001b[0m \u001b[0moutliers\u001b[0m\u001b[1;33m\u001b[0m\u001b[1;33m\u001b[0m\u001b[0m\n\u001b[0m\u001b[0;32m      5\u001b[0m     \u001b[0msem_outliers_acesso\u001b[0m\u001b[1;33m.\u001b[0m\u001b[0mdrop\u001b[0m\u001b[1;33m(\u001b[0m\u001b[0mlinha\u001b[0m\u001b[1;33m)\u001b[0m\u001b[1;33m\u001b[0m\u001b[1;33m\u001b[0m\u001b[0m\n\u001b[0;32m      6\u001b[0m \u001b[1;33m\u001b[0m\u001b[0m\n",
      "\u001b[1;31mTypeError\u001b[0m: string indices must be integers"
     ]
    }
   ],
   "source": [
    "outliers = ['2021-09-30','2021-03-03']\n",
    "sem_outliers_acesso = df_base\n",
    "for linha in sem_outliers_acesso:\n",
    "    print(linha)\n",
    "    # linha['date'] in outliers\n",
    "    # sem_outliers_acesso.drop(linha)\n",
    "\n",
    "y = sem_outliers_acesso.date.value_counts(sort=False)\n",
    "x = y.index\n",
    "\n",
    "plt.figure(figsize=(12,8))\n",
    "plt.plot(x,y)\n",
    "plt.show()\n",
    "plt.close()"
   ]
  },
  {
   "cell_type": "code",
   "execution_count": null,
   "metadata": {},
   "outputs": [],
   "source": []
  }
 ],
 "metadata": {
  "kernelspec": {
   "display_name": "Python 3.9.12 ('base')",
   "language": "python",
   "name": "python3"
  },
  "language_info": {
   "codemirror_mode": {
    "name": "ipython",
    "version": 3
   },
   "file_extension": ".py",
   "mimetype": "text/x-python",
   "name": "python",
   "nbconvert_exporter": "python",
   "pygments_lexer": "ipython3",
   "version": "3.9.12"
  },
  "orig_nbformat": 4,
  "vscode": {
   "interpreter": {
    "hash": "665796ea3363072d3a6057ac2fdbe3c4fcb0d17a4b92295d9707f78e9c46c0af"
   }
  }
 },
 "nbformat": 4,
 "nbformat_minor": 2
}
